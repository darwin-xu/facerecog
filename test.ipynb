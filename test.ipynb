{
 "cells": [
  {
   "cell_type": "code",
   "execution_count": 1,
   "metadata": {},
   "outputs": [
    {
     "name": "stderr",
     "output_type": "stream",
     "text": [
      "e:\\python\\lib\\site-packages\\h5py\\__init__.py:36: FutureWarning: Conversion of the second argument of issubdtype from `float` to `np.floating` is deprecated. In future, it will be treated as `np.float64 == np.dtype(float).type`.\n",
      "  from ._conv import register_converters as _register_converters\n"
     ]
    }
   ],
   "source": [
    "import os.path\n",
    "import cv2\n",
    "import pickle\n",
    "import numpy as np\n",
    "import json\n",
    "import imageio\n",
    "from flask import Flask, Response, jsonify, make_response, request\n",
    "from face_utils import encode_faces, load_model, recong_face_c, generate_response, search_face_by_distance"
   ]
  },
  {
   "cell_type": "code",
   "execution_count": 2,
   "metadata": {},
   "outputs": [
    {
     "name": "stdout",
     "output_type": "stream",
     "text": [
      "Creating networks and loading parameters\n",
      "Loading feature extraction model\n",
      "Model directory: ../models/20170511-185253\n",
      "Metagraph file: model-20170511-185253.meta\n",
      "Checkpoint file: model-20170511-185253.ckpt-80000\n",
      "WARNING:tensorflow:The saved meta_graph is possibly from an older release:\n",
      "'model_variables' collection should be of type 'byte_list', but instead is of type 'node_list'.\n",
      "INFO:tensorflow:Restoring parameters from ../models/20170511-185253\\model-20170511-185253.ckpt-80000\n",
      "load classifier file-> ./my_classifier.pkl\n"
     ]
    }
   ],
   "source": [
    "global model, sess, graph, embeddings\n",
    "embedding_dat_path = './embedding.dat'\n",
    "embeddings = {}\n",
    "model_path = '../models/20170511-185253'\n",
    "classifier_filename = './my_classifier.pkl'\n",
    "if os.path.exists(embedding_dat_path):\n",
    "    with open(embedding_dat_path, 'rb') as infile:\n",
    "        embeddings = pickle.load(infile)\n",
    "model, sess, graph, pnet, rnet, onet = load_model(model_path, classifier_filename)"
   ]
  },
  {
   "cell_type": "code",
   "execution_count": 3,
   "metadata": {},
   "outputs": [
    {
     "name": "stdout",
     "output_type": "stream",
     "text": [
      "load classifier file-> my_classifier.pkl\n"
     ]
    }
   ],
   "source": [
    "classifier_filename = 'my_classifier.pkl'\n",
    "classifier_filename_exp = os.path.expanduser(classifier_filename)\n",
    "if os.path.exists(classifier_filename_exp):\n",
    "    with open(classifier_filename_exp, 'rb') as infile:\n",
    "        model = pickle.load(infile)\n",
    "        print('load classifier file-> %s' % classifier_filename_exp)"
   ]
  },
  {
   "cell_type": "code",
   "execution_count": 4,
   "metadata": {},
   "outputs": [],
   "source": [
    "def register(id, img_file):\n",
    "    img = imageio.imread(img_file)\n",
    "    embeddings_boxes = encode_faces(graph, sess, pnet, rnet, onet, img)\n",
    "    if len(embeddings_boxes) == 1:\n",
    "        if id not in embeddings:\n",
    "            embeddings[id] = []\n",
    "        embeddings[id].append(embeddings_boxes[0][0])\n",
    "        \n",
    "def batch_reg(folder):\n",
    "    for id in os.listdir(folder):\n",
    "        for img in os.listdir(os.path.join(folder, id)):\n",
    "            try:\n",
    "                register(id, os.path.join(folder, id, img))\n",
    "            except:\n",
    "                print('skip' + os.path.join(folder, id, img))"
   ]
  },
  {
   "cell_type": "code",
   "execution_count": 25,
   "metadata": {
    "scrolled": true
   },
   "outputs": [
    {
     "name": "stdout",
     "output_type": "stream",
     "text": [
      "skip./median\\Abdullah_Gul\\Abdullah_Gul_0002.png\n",
      "skip./median\\Abdullah_Gul\\Abdullah_Gul_0008.png\n",
      "skip./median\\Abdullah_Gul\\Abdullah_Gul_0010.png\n",
      "skip./median\\Abdullah_Gul\\Abdullah_Gul_0013.png\n",
      "skip./median\\Abdullah_Gul\\Abdullah_Gul_0014.png\n",
      "skip./median\\Bill_Gates\\Bill_Gates_0008.png\n",
      "skip./median\\George_W_Bush\\George_W_Bush_0004.png\n",
      "skip./median\\George_W_Bush\\George_W_Bush_0005.png\n",
      "skip./median\\George_W_Bush\\George_W_Bush_0011.png\n",
      "skip./median\\George_W_Bush\\George_W_Bush_0063.png\n",
      "skip./median\\George_W_Bush\\George_W_Bush_0073.png\n",
      "skip./median\\George_W_Bush\\George_W_Bush_0079.png\n",
      "skip./median\\George_W_Bush\\George_W_Bush_0099.png\n",
      "skip./median\\George_W_Bush\\George_W_Bush_0101.png\n",
      "skip./median\\George_W_Bush\\George_W_Bush_0116.png\n",
      "skip./median\\George_W_Bush\\George_W_Bush_0117.png\n",
      "skip./median\\George_W_Bush\\George_W_Bush_0148.png\n",
      "skip./median\\George_W_Bush\\George_W_Bush_0159.png\n",
      "skip./median\\George_W_Bush\\George_W_Bush_0163.png\n",
      "skip./median\\George_W_Bush\\George_W_Bush_0170.png\n",
      "skip./median\\George_W_Bush\\George_W_Bush_0194.png\n",
      "skip./median\\George_W_Bush\\George_W_Bush_0266.png\n",
      "skip./median\\George_W_Bush\\George_W_Bush_0275.png\n",
      "skip./median\\George_W_Bush\\George_W_Bush_0299.png\n",
      "skip./median\\George_W_Bush\\George_W_Bush_0301.png\n",
      "skip./median\\George_W_Bush\\George_W_Bush_0318.png\n",
      "skip./median\\George_W_Bush\\George_W_Bush_0354.png\n",
      "skip./median\\George_W_Bush\\George_W_Bush_0400.png\n",
      "skip./median\\George_W_Bush\\George_W_Bush_0407.png\n",
      "skip./median\\George_W_Bush\\George_W_Bush_0433.png\n",
      "skip./median\\George_W_Bush\\George_W_Bush_0448.png\n",
      "skip./median\\George_W_Bush\\George_W_Bush_0485.png\n",
      "skip./median\\George_W_Bush\\George_W_Bush_0494.png\n",
      "skip./median\\George_W_Bush\\George_W_Bush_0497.png\n",
      "skip./median\\George_W_Bush\\George_W_Bush_0525.png\n",
      "skip./median\\George_W_Bush\\George_W_Bush_0529.png\n",
      "skip./median\\Gray_Davis\\Gray_Davis_0007.png\n",
      "skip./median\\Hillary_Clinton\\Hillary_Clinton_0006.png\n",
      "skip./median\\Hillary_Clinton\\Hillary_Clinton_0007.png\n",
      "skip./median\\James_Blake\\James_Blake_0013.png\n",
      "skip./median\\Jiang_Zemin\\Jiang_Zemin_0004.png\n",
      "skip./median\\Jiang_Zemin\\Jiang_Zemin_0008.png\n",
      "skip./median\\Jiang_Zemin\\Jiang_Zemin_0010.png\n",
      "skip./median\\Jiang_Zemin\\Jiang_Zemin_0016.png\n",
      "skip./median\\Jiang_Zemin\\Jiang_Zemin_0020.png\n",
      "skip./median\\John_Allen_Muhammad\\John_Allen_Muhammad_0001.png\n",
      "skip./median\\John_Allen_Muhammad\\John_Allen_Muhammad_0007.png\n",
      "skip./median\\Kim_Clijsters\\Kim_Clijsters_0003.png\n",
      "skip./median\\Kim_Clijsters\\Kim_Clijsters_0011.png\n",
      "skip./median\\Kim_Clijsters\\Kim_Clijsters_0012.png\n",
      "skip./median\\Kim_Clijsters\\Kim_Clijsters_0014.png\n",
      "skip./median\\Nicanor_Duarte_Frutos\\Nicanor_Duarte_Frutos_0002.png\n",
      "skip./median\\Nicanor_Duarte_Frutos\\Nicanor_Duarte_Frutos_0010.png\n"
     ]
    }
   ],
   "source": [
    "batch_reg('./median')\n",
    "# register(id, './out_dir/Abdullah_Gul/Abdullah_Gul_0002.png')"
   ]
  },
  {
   "cell_type": "code",
   "execution_count": 27,
   "metadata": {},
   "outputs": [
    {
     "name": "stdout",
     "output_type": "stream",
     "text": [
      "make_classifier with\n",
      "Training classifier\n",
      "Saved classifier model to file \"my_classifier.pkl\"\n"
     ]
    }
   ],
   "source": [
    "# %load_ext autoreload\n",
    "# %autoreload 2\n",
    "# print (len(embeddings))\n",
    "import make_classifier\n",
    "import imp  \n",
    "imp.reload(make_classifier)  \n",
    "model = make_classifier.make_classifier(sess, graph, embeddings, 'my_classifier.pkl', kernal='linear', probability=True)"
   ]
  },
  {
   "cell_type": "code",
   "execution_count": 33,
   "metadata": {},
   "outputs": [
    {
     "name": "stdout",
     "output_type": "stream",
     "text": [
      "2\n"
     ]
    }
   ],
   "source": [
    "# print(model.decision_function_shape)\n",
    "# print(vars(model))\n",
    "# print(model.support_vectors_.shape[1])\n",
    "\n",
    "print (len(embeddings['gai']))"
   ]
  },
  {
   "cell_type": "code",
   "execution_count": 46,
   "metadata": {},
   "outputs": [
    {
     "name": "stdout",
     "output_type": "stream",
     "text": [
      "[[0.04063589 0.07709223 0.42640071 0.06115703 0.04617131 0.05696048\n",
      "  0.05099897 0.03788681 0.04292298 0.0285804  0.04523762 0.01050571\n",
      "  0.03196609 0.00870397 0.02022939 0.01455041]]\n",
      "['Abdullah_Gul' 'Bill_Gates' 'George_W_Bush' 'Gray_Davis'\n",
      " 'Hillary_Clinton' 'James_Blake' 'Jiang_Zemin' 'John_Allen_Muhammad'\n",
      " 'Kim_Clijsters' 'Nicanor_Duarte_Frutos' 'fbb' 'gai' 'ljl' 'pgone' 'zw'\n",
      " 'zzy']\n",
      "['George_W_Bush']\n",
      "[0.42640071]\n"
     ]
    }
   ],
   "source": [
    "# img = imageio.imread('./out_dir/George_W_Bush/George_W_Bush_0005.png')\n",
    "img = imageio.imread('gwb.jpg')\n",
    "embeddings_boxes = encode_faces(graph, sess, pnet, rnet, onet, img)\n",
    "emb = embeddings_boxes[0][0]\n",
    "dfs = model.predict_proba(emb.reshape(1,128))\n",
    "print(dfs)\n",
    "print(model.classes_)\n",
    "min_idx = np.argmax(dfs, axis=1)\n",
    "print(model.classes_[min_idx])\n",
    "print(dfs[0][min_idx])"
   ]
  }
 ],
 "metadata": {
  "kernelspec": {
   "display_name": "Python 3",
   "language": "python",
   "name": "python3"
  },
  "language_info": {
   "codemirror_mode": {
    "name": "ipython",
    "version": 3
   },
   "file_extension": ".py",
   "mimetype": "text/x-python",
   "name": "python",
   "nbconvert_exporter": "python",
   "pygments_lexer": "ipython3",
   "version": "3.6.2"
  }
 },
 "nbformat": 4,
 "nbformat_minor": 2
}
