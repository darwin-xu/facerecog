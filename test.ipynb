{
 "cells": [
  {
   "cell_type": "code",
   "execution_count": 30,
   "metadata": {},
   "outputs": [],
   "source": [
    "import os.path\n",
    "import cv2\n",
    "import pickle\n",
    "import numpy as np\n",
    "import json\n",
    "import imageio\n",
    "from flask import Flask, Response, jsonify, make_response, request\n",
    "from face_utils import encode_faces, load_model, recong_face_c, generate_response, search_face_by_distance\n",
    "from make_classifier import make_classifier"
   ]
  },
  {
   "cell_type": "code",
   "execution_count": 7,
   "metadata": {},
   "outputs": [
    {
     "name": "stdout",
     "output_type": "stream",
     "text": [
      "Creating networks and loading parameters\n",
      "Loading feature extraction model\n",
      "Model directory: ../models/vggface2-cl\n",
      "Metagraph file: model-20171216-232945.meta\n",
      "Checkpoint file: model-20171216-232945.ckpt-100000\n",
      "INFO:tensorflow:Restoring parameters from ../models/vggface2-cl\\model-20171216-232945.ckpt-100000\n",
      "load classifier file-> ./511_classifier.pkl\n"
     ]
    }
   ],
   "source": [
    "global model, sess, graph, embeddings\n",
    "embedding_dat_path = './embedding.dat'\n",
    "embeddings = {}\n",
    "model_path = '../models/vggface2-cl'\n",
    "img_dir = './images'\n",
    "classifier_filename = './my_classifier.pkl'\n",
    "if os.path.exists(embedding_dat_path):\n",
    "    with open(embedding_dat_path, 'rb') as infile:\n",
    "        embeddings = pickle.load(infile)\n",
    "model, sess, graph, pnet, rnet, onet = load_model(model_path, classifier_filename)"
   ]
  },
  {
   "cell_type": "code",
   "execution_count": 38,
   "metadata": {},
   "outputs": [],
   "source": [
    "img = imageio.imread('./out_dir/George_W_Bush/George_W_Bush_0001.png')\n",
    "cv2.imshow('image', img)\n",
    "\n",
    "if cv2.waitKey(0) & 0xFF == ord('q'):\n",
    "    print(\"release resoure...\")\n",
    "    cv2.destroyAllWindows()"
   ]
  },
  {
   "cell_type": "code",
   "execution_count": 41,
   "metadata": {},
   "outputs": [
    {
     "name": "stdout",
     "output_type": "stream",
     "text": [
      "load classifier file-> my_classifier.pkl\n"
     ]
    }
   ],
   "source": [
    "classifier_filename = 'my_classifier.pkl'\n",
    "classifier_filename_exp = os.path.expanduser(classifier_filename)\n",
    "if os.path.exists(classifier_filename_exp):\n",
    "    with open(classifier_filename_exp, 'rb') as infile:\n",
    "        model = pickle.load(infile)\n",
    "        print('load classifier file-> %s' % classifier_filename_exp)"
   ]
  },
  {
   "cell_type": "code",
   "execution_count": 36,
   "metadata": {},
   "outputs": [
    {
     "name": "stdout",
     "output_type": "stream",
     "text": [
      "128\n"
     ]
    }
   ],
   "source": [
    "# print(model.decision_function_shape)\n",
    "# print(vars(model))\n",
    "print(model.support_vectors_.shape[1])"
   ]
  },
  {
   "cell_type": "code",
   "execution_count": 49,
   "metadata": {},
   "outputs": [
    {
     "name": "stdout",
     "output_type": "stream",
     "text": [
      "(128,)\n",
      "['Tom_Cruise']\n"
     ]
    }
   ],
   "source": [
    "# img = imageio.imread('./out_dir/George_W_Bush/George_W_Bush_0005.png')\n",
    "img = imageio.imread('3p.jpg')\n",
    "embeddings_boxes = encode_faces(graph, sess, pnet, rnet, onet, img)\n",
    "emb = embeddings_boxes[0][0]\n",
    "print(emb.shape)\n",
    "dfs = model.decision_function(emb.reshape(1,128))\n",
    "min_idx = np.argmin(dfs, axis=1)\n",
    "print(model.classes_[min_idx])"
   ]
  }
 ],
 "metadata": {
  "kernelspec": {
   "display_name": "Python 3",
   "language": "python",
   "name": "python3"
  },
  "language_info": {
   "codemirror_mode": {
    "name": "ipython",
    "version": 3
   },
   "file_extension": ".py",
   "mimetype": "text/x-python",
   "name": "python",
   "nbconvert_exporter": "python",
   "pygments_lexer": "ipython3",
   "version": "3.6.2"
  }
 },
 "nbformat": 4,
 "nbformat_minor": 2
}
